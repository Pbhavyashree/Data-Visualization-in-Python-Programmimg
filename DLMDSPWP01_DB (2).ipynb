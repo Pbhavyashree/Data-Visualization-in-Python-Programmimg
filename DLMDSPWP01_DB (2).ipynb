{
  "cells": [
    {
      "cell_type": "code",
      "execution_count": 2,
      "metadata": {
        "colab": {
          "base_uri": "https://localhost:8080/",
          "height": 503
        },
        "id": "f3g5Ln7u9QBE",
        "outputId": "1cb0c43b-8f16-4f5e-fbae-ea779b18969e"
      },
      "outputs": [
        {
          "ename": "ModuleNotFoundError",
          "evalue": "No module named 'sklearn'",
          "output_type": "error",
          "traceback": [
            "\u001b[1;31m---------------------------------------------------------------------------\u001b[0m",
            "\u001b[1;31mModuleNotFoundError\u001b[0m                       Traceback (most recent call last)",
            "Cell \u001b[1;32mIn[2], line 5\u001b[0m\n\u001b[0;32m      3\u001b[0m \u001b[39mfrom\u001b[39;00m \u001b[39msqlalchemy\u001b[39;00m \u001b[39mimport\u001b[39;00m create_engine\n\u001b[0;32m      4\u001b[0m \u001b[39mimport\u001b[39;00m \u001b[39msqlite3\u001b[39;00m \u001b[39mas\u001b[39;00m \u001b[39msql\u001b[39;00m\n\u001b[1;32m----> 5\u001b[0m \u001b[39mfrom\u001b[39;00m \u001b[39msklearn\u001b[39;00m \u001b[39mimport\u001b[39;00m linear_model\n\u001b[0;32m      6\u001b[0m \u001b[39mfrom\u001b[39;00m \u001b[39msklearn\u001b[39;00m\u001b[39m.\u001b[39;00m\u001b[39mlinear_model\u001b[39;00m \u001b[39mimport\u001b[39;00m LinearRegression\n\u001b[0;32m      7\u001b[0m \u001b[39mimport\u001b[39;00m \u001b[39mos\u001b[39;00m\n",
            "\u001b[1;31mModuleNotFoundError\u001b[0m: No module named 'sklearn'"
          ]
        }
      ],
      "source": [
        "import pandas as pd\n",
        "import sqlalchemy as db\n",
        "from sqlalchemy import create_engine\n",
        "import sqlite3 as sql\n",
        "from sklearn import linear_model\n",
        "from sklearn.linear_model import LinearRegression\n",
        "import os\n",
        "import matplotlib.pyplot as plt\n",
        "import numpy as np\n",
        "\n",
        "def regression(test_data, reg):\n",
        "    print(\"Predicted from {} is {}.\".format(test_data, reg.predict(test_data)))\n",
        "\n",
        "def main():\n",
        "    try:\n",
        "        engine = create_engine('sqlite:///testdb.db', echo=False)\n",
        "    except:\n",
        "        print(\"Failed to create engine.\")\n",
        "\n",
        "    #Read data from csv file and store it to dataframe\n",
        "    train_df = pd.read_csv(\"train.csv\")\n",
        "    train_df.to_sql('train_table',con=engine, index=False, if_exists='replace')\n",
        "\n",
        "    # Regress to train the data\n",
        "    train_x = np.asanyarray(train_df[['x']])\n",
        "    train_y = np.asanyarray(train_df[['y1']])\n",
        "    global reg\n",
        "    reg = LinearRegression()\n",
        "    reg.fit(train_x, train_y)\n",
        "\n",
        "    coef = reg.coef_\n",
        "    intercept = reg.intercept_\n",
        "\n",
        "    print('Coefficient/slope: {}'.format(coef))\n",
        "    print('Intercept: {}'.format(intercept))\n",
        "\n",
        "    # Plot the training data with regression result\n",
        "    plt.scatter(train_df.iloc[:,0], train_df.iloc[:,1], color='blue')\n",
        "    plt.plot(train_x, coef * train_x + intercept, color='red')\n",
        "    plt.xlabel('Train X')\n",
        "    plt.ylabel('Train Y')\n",
        "    plt.show()\n",
        "\n",
        "    # Regression to predict\n",
        "    test_data = [[5]]\n",
        "    regression(test_data, reg)\n",
        "\n",
        "if __name__ == \"__main__\":\n",
        "    main()"
      ]
    },
    {
      "cell_type": "code",
      "execution_count": null,
      "metadata": {
        "id": "rZGnrdSt9kLo"
      },
      "outputs": [
        {
          "name": "stdout",
          "output_type": "stream",
          "text": [
            "Note: you may need to restart the kernel to use updated packages.Collecting sklearn\n",
            "  Downloading sklearn-0.0.post4.tar.gz (3.6 kB)\n",
            "  Preparing metadata (setup.py): started\n",
            "  Preparing metadata (setup.py): finished with status 'error'\n",
            "\n"
          ]
        },
        {
          "name": "stderr",
          "output_type": "stream",
          "text": [
            "  error: subprocess-exited-with-error\n",
            "  \n",
            "  × python setup.py egg_info did not run successfully.\n",
            "  │ exit code: 1\n",
            "  ╰─> [10 lines of output]\n",
            "      Traceback (most recent call last):\n",
            "        File \"<string>\", line 2, in <module>\n",
            "        File \"<pip-setuptools-caller>\", line 34, in <module>\n",
            "        File \"C:\\Users\\BHAVYA\\AppData\\Local\\Temp\\pip-install-u0ys_bm2\\sklearn_c4c589661b234b13bea2e90c2532deb8\\setup.py\", line 10, in <module>\n",
            "          LONG_DESCRIPTION = f.read()\n",
            "                             ^^^^^^^^\n",
            "        File \"c:\\Users\\BHAVYA\\AppData\\Local\\Programs\\Python\\Python311\\Lib\\encodings\\cp1252.py\", line 23, in decode\n",
            "          return codecs.charmap_decode(input,self.errors,decoding_table)[0]\n",
            "                 ^^^^^^^^^^^^^^^^^^^^^^^^^^^^^^^^^^^^^^^^^^^^^^^^^^^^^^^\n",
            "      UnicodeDecodeError: 'charmap' codec can't decode byte 0x8f in position 7: character maps to <undefined>\n",
            "      [end of output]\n",
            "  \n",
            "  note: This error originates from a subprocess, and is likely not a problem with pip.\n",
            "error: metadata-generation-failed\n",
            "\n",
            "× Encountered error while generating package metadata.\n",
            "╰─> See above for output.\n",
            "\n",
            "note: This is an issue with the package mentioned above, not pip.\n",
            "hint: See above for details.\n",
            "\n",
            "[notice] A new release of pip available: 22.3.1 -> 23.1\n",
            "[notice] To update, run: python.exe -m pip install --upgrade pip\n"
          ]
        }
      ],
      "source": [
        "pip install sklearn\n"
      ]
    }
  ],
  "metadata": {
    "colab": {
      "provenance": []
    },
    "kernelspec": {
      "display_name": "Python 3",
      "name": "python3"
    },
    "language_info": {
      "codemirror_mode": {
        "name": "ipython",
        "version": 3
      },
      "file_extension": ".py",
      "mimetype": "text/x-python",
      "name": "python",
      "nbconvert_exporter": "python",
      "pygments_lexer": "ipython3",
      "version": "3.11.2"
    }
  },
  "nbformat": 4,
  "nbformat_minor": 0
}
